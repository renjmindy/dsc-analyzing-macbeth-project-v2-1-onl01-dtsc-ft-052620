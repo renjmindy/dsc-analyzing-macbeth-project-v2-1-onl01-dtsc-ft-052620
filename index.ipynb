{
 "cells": [
  {
   "cell_type": "markdown",
   "metadata": {},
   "source": [
    "# Project: Analyzing Macbeth\n",
    "\n",
    "## Introduction\n",
    "Now we're going to do some rudimentary analysis of Shakespeare's classic play: Macbeth! You will get practice working with lists and dictionaries, conditionals, visualizing data, and thinking analytically about data.\n",
    "\n",
    "## Objectives\n",
    "You will be able to:\n",
    "* Apply string methods to make changes to a string\n",
    "* Use a `for` loop to iterate over a collection\n",
    "* Assign values in a dictionary\n",
    "\n",
    "## Getting the Data\n",
    "Here we start by importing a Python package called `requests`. We'll use it to pull the transcript of Macbeth from the [Project Gutenberg](https://www.gutenberg.org/) website. We'll also preview a few details about what is now stored in the variable `macbeth`. As you can see, it's a string with 120,253 characters - the first 500 of which are printed below. "
   ]
  },
  {
   "cell_type": "code",
   "execution_count": 83,
   "metadata": {},
   "outputs": [
    {
     "name": "stdout",
     "output_type": "stream",
     "text": [
      "<class 'str'>\n",
      "120253\n",
      "﻿\r\n",
      "\r\n",
      "***The Project Gutenberg's Etext of Shakespeare's First Folio***\r\n",
      "********************The Tragedie of Macbeth*********************\r\n",
      "\r\n",
      "\r\n",
      "\r\n",
      "*******************************************************************\r\n",
      "THIS EBOOK WAS ONE OF PROJECT GUTENBERG'S EARLY FILES PRODUCED AT A\r\n",
      "TIME WHEN PROOFING METHODS AND TOOLS WERE NOT WELL DEVELOPED. THERE\r\n",
      "IS AN IMPROVED EDITION OF THIS TITLE WHICH MAY BE VIEWED AS EBOOK\r\n",
      "(#1533) at https://www.gutenberg.org/ebooks/1533\r\n",
      "********************************* \n",
      "\n",
      "\n",
      " ['\\ufeff', 'the', 'project', \"gutenberg's\", 'etext', 'of', \"shakespeare's\", 'first', 'folio', 'the', 'tragedie', 'of', 'macbeth', 'this', 'ebook', 'was', 'one', 'of', 'project', \"gutenberg's\", 'early', 'files', 'produced', 'at', 'a', 'time', 'when', 'proofing', 'methods', 'and', 'tools', 'were', 'not', 'well', 'developed.', 'there', 'is', 'an', 'improved', 'edition', 'of', 'this', 'title', 'which', 'may', 'be', 'viewed', 'as', 'ebook', '(#1533)', 'at', 'https://www.gutenberg.org/ebooks/1533'] \n",
      "\n",
      "\n",
      " ['\\ufeff', 't', 'h', 'e', 'p', 'r', 'o', 'j', 'e', 'c', 't', 'g', 'u', 't', 'e', 'n', 'b', 'e', 'r', 'g', \"'\", 's', 'e', 't', 'e', 'x', 't', 'o', 'f', 's', 'h', 'a', 'k', 'e', 's', 'p', 'e', 'a', 'r', 'e', \"'\", 's', 'f', 'i', 'r', 's', 't', 'f', 'o', 'l', 'i', 'o', 't', 'h', 'e', 't', 'r', 'a', 'g', 'e', 'd', 'i', 'e', 'o', 'f', 'm', 'a', 'c', 'b', 'e', 't', 'h', 't', 'h', 'i', 's', 'e', 'b', 'o', 'o', 'k', 'w', 'a', 's', 'o', 'n', 'e', 'o', 'f', 'p', 'r', 'o', 'j', 'e', 'c', 't', 'g', 'u', 't', 'e', 'n', 'b', 'e', 'r', 'g', \"'\", 's', 'e', 'a', 'r', 'l', 'y', 'f', 'i', 'l', 'e', 's', 'p', 'r', 'o', 'd', 'u', 'c', 'e', 'd', 'a', 't', 'a', 't', 'i', 'm', 'e', 'w', 'h', 'e', 'n', 'p', 'r', 'o', 'o', 'f', 'i', 'n', 'g', 'm', 'e', 't', 'h', 'o', 'd', 's', 'a', 'n', 'd', 't', 'o', 'o', 'l', 's', 'w', 'e', 'r', 'e', 'n', 'o', 't', 'w', 'e', 'l', 'l', 'd', 'e', 'v', 'e', 'l', 'o', 'p', 'e', 'd', '.', 't', 'h', 'e', 'r', 'e', 'i', 's', 'a', 'n', 'i', 'm', 'p', 'r', 'o', 'v', 'e', 'd', 'e', 'd', 'i', 't', 'i', 'o', 'n', 'o', 'f', 't', 'h', 'i', 's', 't', 'i', 't', 'l', 'e', 'w', 'h', 'i', 'c', 'h', 'm', 'a', 'y', 'b', 'e', 'v', 'i', 'e', 'w', 'e', 'd', 'a', 's', 'e', 'b', 'o', 'o', 'k', '(', '#', '1', '5', '3', '3', ')', 'a', 't', 'h', 't', 't', 'p', 's', ':', '/', '/', 'w', 'w', 'w', '.', 'g', 'u', 't', 'e', 'n', 'b', 'e', 'r', 'g', '.', 'o', 'r', 'g', '/', 'e', 'b', 'o', 'o', 'k', 's', '/', '1', '5', '3', '3']\n"
     ]
    }
   ],
   "source": [
    "import requests\n",
    "macbeth = requests.get('http://www.gutenberg.org/cache/epub/2264/pg2264.txt').text\n",
    "\n",
    "print(type(macbeth))\n",
    "print(len(macbeth))\n",
    "print(macbeth[:500],'\\n')\n",
    "\n",
    "def convert(lst):\n",
    "    return lst.replace(\"*\",\"\").lower().split()\n",
    "\n",
    "def dissect(lst):\n",
    "    #words_list = convert(lst)\n",
    "    chars_list = []\n",
    "    #for word in words_list:\n",
    "    for word in lst:\n",
    "        for char in word:\n",
    "            chars_list.append(char)\n",
    "    return chars_list\n",
    "\n",
    "print('\\n',convert(macbeth[:500]),'\\n')\n",
    "#print('\\n',dissect(macbeth[:500]))\n",
    "print('\\n',dissect(convert(macbeth[:500])))"
   ]
  },
  {
   "cell_type": "markdown",
   "metadata": {},
   "source": [
    "## Your Task\n",
    "\n",
    "Your task is to create a bar graph of the 25 most common words in Shakespeare's Macbeth.  \n",
    "\n",
    "\n",
    "A common Python programming pattern to count objects, produce histograms, or update statistics is to make calls to a dictionary as you iterate through a list. For example, given a list of words, you can create a dictionary to store counts and then iterate through the list of words, checking how many times each word has appeared using your dictionary, and updating the dictionary count now that you've seen that word again. The `.get()` dictionary method is very useful in doing this. Read the docstring for the `.get()` method and use it along with the pseudocode below to create a bar graph of the 25 most common words from the transcript of Macbeth which has been loaded into the variable 'macbeth'. Be sure to include a title and appropriate labels for your graph.\n",
    "\n",
    "To get the 25 *most common* words, you will have to sort your counts. If you are not super sure how to do this, checkout out the [Sorting HOW TO](https://docs.python.org/3/howto/sorting.html) Python documentation. Part of being a data scientist is figuring out how to do tasks that you may not have done before. Remember, in these situations, Google is your friend!"
   ]
  },
  {
   "cell_type": "code",
   "execution_count": 82,
   "metadata": {},
   "outputs": [
    {
     "name": "stdout",
     "output_type": "stream",
     "text": [
      "words list: ['the', 'and', 'to', 'of', 'i', 'a', 'that', 'you', 'in', 'is', 'my', 'not', 'with', 'it', 'be', 'this', 'his', 'your', 'macb.', 'our', 'for', 'but', 'haue', 'he', 'what']\n",
      "count list: [758, 597, 452, 426, 326, 284, 238, 229, 219, 206, 205, 160, 160, 153, 148, 147, 144, 138, 137, 136, 135, 126, 119, 109, 104]\n"
     ]
    },
    {
     "data": {
      "image/png": "[encoded data removed]",
      "text/plain": [
       "<Figure size 1152x432 with 1 Axes>"
      ]
     },
     "metadata": {
      "needs_background": "light"
     },
     "output_type": "display_data"
    }
   ],
   "source": [
    "import numpy as np\n",
    "import matplotlib.pyplot as plt\n",
    "%matplotlib inline\n",
    "\n",
    "# Your code here\n",
    "\n",
    "# Pseudo-code outline\n",
    "\n",
    "# Split the transcript into words\n",
    "words_list = convert(macbeth)\n",
    "\n",
    "# Create a dictionary\n",
    "words_dict = dict()\n",
    "\n",
    "# Iterate through the text of Macbeth\n",
    "for word in words_list:\n",
    "# Update word counts\n",
    "    if words_dict:\n",
    "        if word not in words_dict:\n",
    "            words_dict[word] = 1\n",
    "        else:\n",
    "            words_dict[word] += 1\n",
    "    else:\n",
    "        words_dict[word] = 1\n",
    "        \n",
    "#print(words_dict)\n",
    "\n",
    "# Sort words by counts in descending order\n",
    "words_dict_sorted = {k:v for k,v in sorted(words_dict.items(), key=lambda x:x[1], reverse=True)}\n",
    "#print(words_dict_sorted)\n",
    "\n",
    "#words_list_sorted = sorted(words_dict, key=words_dict.get,reverse=True)\n",
    "#print(words_list_sorted)\n",
    "\n",
    "top25_sorted_words_list = []\n",
    "top25_sorted_count_list = []\n",
    "counter = 0\n",
    "for k,v in words_dict_sorted.items():\n",
    "    counter += 1\n",
    "    if counter < 26:\n",
    "        top25_sorted_words_list.append(k)\n",
    "        top25_sorted_count_list.append(v)\n",
    "    else:\n",
    "        break\n",
    "\n",
    "print(\"words list:\",top25_sorted_words_list)\n",
    "print(\"count list:\",top25_sorted_count_list)\n",
    "    \n",
    "# Create Bar Graph\n",
    "plt.figure(figsize=(16,6))\n",
    "\n",
    "# Use the bar() function to create a plot using the above values of x and y. Add a label.\n",
    "plt.bar(first25_sorted_words_list, first25_sorted_count_list, label='Macbeth Word Counts')\n",
    "\n",
    "# Include descriptive titles and labels\n",
    "plt.xlabel('Words list')\n",
    "plt.ylabel('Count list')\n",
    "\n",
    "#plt.title('Bar Plot in Matplotlib')\n",
    "plt.legend()\n",
    "\n",
    "# Output the final plot\n",
    "plt.show()\n"
   ]
  },
  {
   "cell_type": "markdown",
   "metadata": {},
   "source": [
    "## Level Up (Optional)\n",
    "This project should take you about an hour and a half to complete. If you're done much more quickly than that and are not behind in the course, feel free to deepen your knowledge by completing any or all of the following tasks until you run out of time:\n",
    "* Create a list of top characters by mentions of their names \n",
    "* Split the text by which character is talking\n",
    "* Create subgraphs of the most common words by character\n",
    "* Reduce the string to the text of the play itself. (Remove any initial notes, forward, introduction, appendix, etc.)\n",
    "* Come up with some other fun analyses of the text!\n",
    "\n",
    "## Summary\n",
    "Congratulations! You've got some extra practice combining various data types into useful programming patterns and done an initial analysis of a classic text!"
   ]
  },
  {
   "cell_type": "code",
   "execution_count": 84,
   "metadata": {},
   "outputs": [
    {
     "name": "stdout",
     "output_type": "stream",
     "text": [
      "['the', 'and', 'to', 'of', 'i', 'a', 'that', 'you', 'in', 'is', 'my', 'not', 'with', 'it', 'be', 'this', 'his', 'your', 'macb.', 'our', 'for', 'but', 'haue', 'he', 'what'] \n",
      "\n",
      "['t', 'h', 'e', 'a', 'n', 'd', 't', 'o', 'o', 'f', 'i', 'a', 't', 'h', 'a', 't', 'y', 'o', 'u', 'i', 'n', 'i', 's', 'm', 'y', 'n', 'o', 't', 'w', 'i', 't', 'h', 'i', 't', 'b', 'e', 't', 'h', 'i', 's', 'h', 'i', 's', 'y', 'o', 'u', 'r', 'm', 'a', 'c', 'b', '.', 'o', 'u', 'r', 'f', 'o', 'r', 'b', 'u', 't', 'h', 'a', 'u', 'e', 'h', 'e', 'w', 'h', 'a', 't']\n"
     ]
    }
   ],
   "source": [
    "# Create a list of top characters by mentions of their names\n",
    "print(top25_sorted_words_list,'\\n')\n",
    "top25Words_chars_list = dissect(top25_sorted_words_list)\n",
    "print(top25Words_chars_list)"
   ]
  },
  {
   "cell_type": "code",
   "execution_count": null,
   "metadata": {},
   "outputs": [],
   "source": [
    "# Split the text by which character is talking"
   ]
  },
  {
   "cell_type": "code",
   "execution_count": null,
   "metadata": {},
   "outputs": [],
   "source": [
    "# Create subgraphs of the most common words by character"
   ]
  },
  {
   "cell_type": "code",
   "execution_count": null,
   "metadata": {},
   "outputs": [],
   "source": [
    "# Reduce the string to the text of the play itself. (Remove any initial notes, forward, introduction, appendix, etc.)"
   ]
  },
  {
   "cell_type": "code",
   "execution_count": null,
   "metadata": {},
   "outputs": [],
   "source": [
    "# Come up with some other fun analyses of the text!"
   ]
  }
 ],
 "metadata": {
  "kernelspec": {
   "display_name": "Python [conda env:learn-env] *",
   "language": "python",
   "name": "conda-env-learn-env-py"
  },
  "language_info": {
   "codemirror_mode": {
    "name": "ipython",
    "version": 3
   },
   "file_extension": ".py",
   "mimetype": "text/x-python",
   "name": "python",
   "nbconvert_exporter": "python",
   "pygments_lexer": "ipython3",
   "version": "3.6.9"
  }
 },
 "nbformat": 4,
 "nbformat_minor": 2
}
